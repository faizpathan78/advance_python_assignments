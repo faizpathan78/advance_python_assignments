{
 "cells": [
  {
   "cell_type": "markdown",
   "id": "53bc2237",
   "metadata": {},
   "source": [
    "***Q1. If you have any, what are your choices for increasing the comparison between different figures on the same graph?***"
   ]
  },
  {
   "cell_type": "markdown",
   "id": "3e0df895",
   "metadata": {},
   "source": [
    "To increase the comparison between different figures on the same graph, you can use techniques like adjusting the y-axis scale, using different colors or patterns for the figures, adding data labels, or using small multiples (faceting) to display related figures side by side."
   ]
  },
  {
   "cell_type": "markdown",
   "id": "d31cc32a",
   "metadata": {},
   "source": [
    "***Q2. Can you explain the benefit of compound interest over a higher rate of interest that does not compound after reading this chapter?***"
   ]
  },
  {
   "cell_type": "markdown",
   "id": "c4528eb9",
   "metadata": {},
   "source": [
    "The benefit of compound interest is that it allows the interest to be calculated on both the initial principal and the accumulated interest over time. This compounding effect leads to exponential growth of the investment, making compound interest more profitable in the long run compared to a higher rate of simple interest, which only applies to the initial principal."
   ]
  },
  {
   "cell_type": "markdown",
   "id": "38664b34",
   "metadata": {},
   "source": [
    "***Q3. What is a histogram, exactly? Name a numpy method for creating such a graph.***"
   ]
  },
  {
   "cell_type": "markdown",
   "id": "afbabca6",
   "metadata": {},
   "source": [
    "A histogram is a graphical representation of the distribution of numerical data. It displays data in bins (intervals) and shows the frequency of occurrences within each bin. A numpy method for creating a histogram is \"numpy.histogram()\"."
   ]
  },
  {
   "cell_type": "markdown",
   "id": "64ca1e92",
   "metadata": {},
   "source": [
    "***Q4. If necessary, how do you change the aspect ratios between the X and Y axes?***"
   ]
  },
  {
   "cell_type": "markdown",
   "id": "2bd99198",
   "metadata": {},
   "source": [
    "To change the aspect ratios between the X and Y axes on a graph, you can use the \"matplotlib.pyplot.gca()\" function to get the current axes, and then use \"ax.set_aspect('equal')\" to set the aspect ratio to be equal. You can adjust the parameter passed to \"set_aspect()\" to modify the aspect ratio as desired."
   ]
  },
  {
   "cell_type": "markdown",
   "id": "8bde7ce4",
   "metadata": {},
   "source": [
    "***Q5. Compare and contrast the three types of array multiplication between two numpy arrays: dot product, outer product, and regular multiplication of two numpy arrays.***"
   ]
  },
  {
   "cell_type": "markdown",
   "id": "b4da3242",
   "metadata": {},
   "source": [
    "The dot product of two numpy arrays results in a scalar or a 1-dimensional array. It is used for matrix operations and finding the sum of element-wise products. The outer product produces a 2-dimensional array by taking the product of all combinations of elements from the two arrays. Regular multiplication of two numpy arrays performs element-wise multiplication and results in a new array with the same shape as the original arrays."
   ]
  },
  {
   "cell_type": "markdown",
   "id": "f807872c",
   "metadata": {},
   "source": [
    "***Q6. Before you buy a home, which numpy function will you use to measure your monthly mortgage payment?***"
   ]
  },
  {
   "cell_type": "markdown",
   "id": "a5a5ca80",
   "metadata": {},
   "source": [
    "To measure the monthly mortgage payment, you can use the numpy financial function \"numpy.pmt()\". It calculates the payment for a loan based on the interest rate, the total number of periods, and the loan principal."
   ]
  },
  {
   "cell_type": "markdown",
   "id": "fe238799",
   "metadata": {},
   "source": [
    "***Q7. Can string data be stored in numpy arrays? If so, list at least one restriction that applies to this data.***"
   ]
  },
  {
   "cell_type": "markdown",
   "id": "63290616",
   "metadata": {},
   "source": [
    "Yes, string data can be stored in numpy arrays. However, a restriction is that numpy arrays have a fixed size, so when storing strings, the length of the strings in each element should be the same or less than the size of the array. If the strings vary in length, they may be truncated or padded with empty spaces."
   ]
  }
 ],
 "metadata": {
  "kernelspec": {
   "display_name": "Python 3 (ipykernel)",
   "language": "python",
   "name": "python3"
  },
  "language_info": {
   "codemirror_mode": {
    "name": "ipython",
    "version": 3
   },
   "file_extension": ".py",
   "mimetype": "text/x-python",
   "name": "python",
   "nbconvert_exporter": "python",
   "pygments_lexer": "ipython3",
   "version": "3.10.9"
  }
 },
 "nbformat": 4,
 "nbformat_minor": 5
}
