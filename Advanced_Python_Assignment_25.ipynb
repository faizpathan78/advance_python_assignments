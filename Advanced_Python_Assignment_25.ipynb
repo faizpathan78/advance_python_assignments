{
 "cells": [
  {
   "cell_type": "markdown",
   "id": "4bfb0ad2",
   "metadata": {},
   "source": [
    "**Q1. What is the distinction between a numpy array and a pandas data frame? Is there a way to convert between the two if there is?**"
   ]
  },
  {
   "cell_type": "markdown",
   "id": "d43b0055",
   "metadata": {},
   "source": [
    "Numpy array is a fundamental data structure for handling numerical data in Python, while a pandas data frame is a more versatile and powerful data structure used to store and manipulate data in a tabular form, similar to a spreadsheet. We can convert a numpy array to a pandas data frame using the \"pd.DataFrame()\" function, and we can convert a pandas data frame to a numpy array using the \".values\" attribute."
   ]
  },
  {
   "cell_type": "markdown",
   "id": "f520a5fe",
   "metadata": {},
   "source": [
    "**Q2. What can go wrong when a user enters a stock-ticker symbol, and how do you handle it?**"
   ]
  },
  {
   "cell_type": "markdown",
   "id": "ca8272d7",
   "metadata": {},
   "source": [
    "When a user enters a stock-ticker symbol, potential issues include incorrect or misspelled symbols, symbols for companies not listed, or invalid symbols. To handle this, we can use error handling techniques, like try-except blocks, to catch any errors and inform the user that the entered symbol is not valid, prompting them to enter a valid symbol."
   ]
  },
  {
   "cell_type": "markdown",
   "id": "75f2dc2d",
   "metadata": {},
   "source": [
    "**Q3. Identify some of the plotting techniques used to produce a stock-market chart.**"
   ]
  },
  {
   "cell_type": "markdown",
   "id": "f234e52c",
   "metadata": {},
   "source": [
    "Stock-market charts commonly use line plots (to show stock prices over time), candlestick charts (to visualize open, high, low, and close prices for a period), bar charts (for comparing different stocks or time periods), and moving average plots (to show trends over time)."
   ]
  },
  {
   "cell_type": "markdown",
   "id": "c13c5cb9",
   "metadata": {},
   "source": [
    "**Q4. Why is it essential to print a legend on a stock market chart?**"
   ]
  },
  {
   "cell_type": "markdown",
   "id": "54e6710b",
   "metadata": {},
   "source": [
    "Printing a legend on a stock market chart is crucial because it provides a key to understanding the different lines or data elements plotted on the chart. The legend helps users identify which line represents which stock or data series, making the chart much more informative and user-friendly."
   ]
  },
  {
   "cell_type": "markdown",
   "id": "02eec686",
   "metadata": {},
   "source": [
    "**Q5. What is the best way to limit the length of a pandas data frame to less than a year?**"
   ]
  },
  {
   "cell_type": "markdown",
   "id": "aed57d23",
   "metadata": {},
   "source": [
    "To limit the length of a pandas data frame to less than a year, we can use date-based indexing and select rows with dates falling within the desired time range using the \"loc[]\" method. Additionally, we can filter the data frame based on specific date conditions."
   ]
  },
  {
   "cell_type": "markdown",
   "id": "2dbd6466",
   "metadata": {},
   "source": [
    "**Q6. What is the definition of a 180-day moving average?**"
   ]
  },
  {
   "cell_type": "markdown",
   "id": "e8fd6bc8",
   "metadata": {},
   "source": [
    "A 180-day moving average is a stock market indicator calculated as the average of a stock's closing prices over the last 180 trading days. It helps smooth out short-term fluctuations and identifies long-term trends."
   ]
  },
  {
   "cell_type": "markdown",
   "id": "4bc036c7",
   "metadata": {},
   "source": [
    "**Q7. Did the chapter's final example use \"indirect\" importing? If so, how exactly do you do it?**"
   ]
  },
  {
   "cell_type": "markdown",
   "id": "d41022f3",
   "metadata": {},
   "source": [
    "The use of \"indirect\" importing was not explicitly mentioned in the previous context, so I cannot confirm if it was used. However, if \"indirect\" importing is used, it typically involves importing specific functions or classes from a module using the \"from module_name import function_name\" syntax. This way, we can directly use the function or class without referencing the module name every time, resulting in more concise code."
   ]
  }
 ],
 "metadata": {
  "kernelspec": {
   "display_name": "Python 3 (ipykernel)",
   "language": "python",
   "name": "python3"
  },
  "language_info": {
   "codemirror_mode": {
    "name": "ipython",
    "version": 3
   },
   "file_extension": ".py",
   "mimetype": "text/x-python",
   "name": "python",
   "nbconvert_exporter": "python",
   "pygments_lexer": "ipython3",
   "version": "3.10.9"
  }
 },
 "nbformat": 4,
 "nbformat_minor": 5
}
